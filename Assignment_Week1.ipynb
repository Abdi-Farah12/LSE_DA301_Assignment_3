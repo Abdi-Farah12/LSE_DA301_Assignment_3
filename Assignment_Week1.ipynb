{
 "cells": [
  {
   "cell_type": "markdown",
   "id": "b5a35e42",
   "metadata": {},
   "source": [
    "### LSE Data Analytics Online Career Accelerator \n",
    "\n",
    "# DA301:  Advanced Analytics for Organisational Impact"
   ]
  },
  {
   "cell_type": "markdown",
   "id": "1021c317",
   "metadata": {},
   "source": [
    "# Assignment activity 1: Make predictions with regression\n",
    "\n",
    "Turtle Games sources and sells Lego products across various countries. They want your help with determining the optimal price of products that would achieve maximum sales results.\n",
    "\n",
    "\n",
    "## Objective\n",
    "\n",
    "Determine the optimal price at which they should sell Lego products based on the number of Lego pieces in the Lego set and the age of the customer that the product is most likely to be purchased by. \n",
    "\n",
    "1. What price should be set for the Lego sets with 8,000 Lego pieces? \n",
    "\n",
    "2. What price should be set for the Lego sets with 8,000 Lego pieces that are most likely to be purchased by 30-year-old customers? "
   ]
  },
  {
   "cell_type": "code",
   "execution_count": 54,
   "id": "ce001ecc",
   "metadata": {},
   "outputs": [],
   "source": [
    "#import all the necessary packages\n",
    "import numpy as np\n",
    "import pandas as pd\n",
    "import statsmodels.api as sm\n",
    "import statsmodels.stats.api as sms\n",
    "import sklearn\n",
    "import matplotlib.pyplot as plt\n",
    "import warnings\n",
    "warnings.filterwarnings('ignore')\n",
    "\n",
    "\n",
    "from sklearn import datasets \n",
    "from sklearn import linear_model\n",
    "from statsmodels.stats.outliers_influence import variance_inflation_factor\n",
    "from sklearn.model_selection import train_test_split\n",
    "from sklearn import metrics\n",
    "from sklearn.linear_model import LinearRegression\n",
    "from statsmodels.formula.api import ols"
   ]
  },
  {
   "cell_type": "markdown",
   "id": "7dd70f99",
   "metadata": {},
   "source": [
    "# 1. Import Data"
   ]
  },
  {
   "cell_type": "code",
   "execution_count": 43,
   "id": "172492c4",
   "metadata": {},
   "outputs": [
    {
     "name": "stdout",
     "output_type": "stream",
     "text": [
      "(12261, 7)\n"
     ]
    },
    {
     "data": {
      "text/html": [
       "<div>\n",
       "<style scoped>\n",
       "    .dataframe tbody tr th:only-of-type {\n",
       "        vertical-align: middle;\n",
       "    }\n",
       "\n",
       "    .dataframe tbody tr th {\n",
       "        vertical-align: top;\n",
       "    }\n",
       "\n",
       "    .dataframe thead th {\n",
       "        text-align: right;\n",
       "    }\n",
       "</style>\n",
       "<table border=\"1\" class=\"dataframe\">\n",
       "  <thead>\n",
       "    <tr style=\"text-align: right;\">\n",
       "      <th></th>\n",
       "      <th>ages</th>\n",
       "      <th>list_price</th>\n",
       "      <th>num_reviews</th>\n",
       "      <th>piece_count</th>\n",
       "      <th>play_star_rating</th>\n",
       "      <th>review_difficulty</th>\n",
       "      <th>country</th>\n",
       "    </tr>\n",
       "  </thead>\n",
       "  <tbody>\n",
       "    <tr>\n",
       "      <th>0</th>\n",
       "      <td>19</td>\n",
       "      <td>29.99</td>\n",
       "      <td>2</td>\n",
       "      <td>277</td>\n",
       "      <td>4.0</td>\n",
       "      <td>0</td>\n",
       "      <td>20</td>\n",
       "    </tr>\n",
       "    <tr>\n",
       "      <th>1</th>\n",
       "      <td>19</td>\n",
       "      <td>19.99</td>\n",
       "      <td>2</td>\n",
       "      <td>168</td>\n",
       "      <td>4.0</td>\n",
       "      <td>2</td>\n",
       "      <td>20</td>\n",
       "    </tr>\n",
       "    <tr>\n",
       "      <th>2</th>\n",
       "      <td>19</td>\n",
       "      <td>12.99</td>\n",
       "      <td>11</td>\n",
       "      <td>74</td>\n",
       "      <td>4.3</td>\n",
       "      <td>2</td>\n",
       "      <td>20</td>\n",
       "    </tr>\n",
       "    <tr>\n",
       "      <th>3</th>\n",
       "      <td>5</td>\n",
       "      <td>99.99</td>\n",
       "      <td>23</td>\n",
       "      <td>1032</td>\n",
       "      <td>3.6</td>\n",
       "      <td>0</td>\n",
       "      <td>20</td>\n",
       "    </tr>\n",
       "    <tr>\n",
       "      <th>4</th>\n",
       "      <td>5</td>\n",
       "      <td>79.99</td>\n",
       "      <td>14</td>\n",
       "      <td>744</td>\n",
       "      <td>3.2</td>\n",
       "      <td>1</td>\n",
       "      <td>20</td>\n",
       "    </tr>\n",
       "  </tbody>\n",
       "</table>\n",
       "</div>"
      ],
      "text/plain": [
       "   ages  list_price  num_reviews  piece_count  play_star_rating  \\\n",
       "0    19       29.99            2          277               4.0   \n",
       "1    19       19.99            2          168               4.0   \n",
       "2    19       12.99           11           74               4.3   \n",
       "3     5       99.99           23         1032               3.6   \n",
       "4     5       79.99           14          744               3.2   \n",
       "\n",
       "   review_difficulty  country  \n",
       "0                  0       20  \n",
       "1                  2       20  \n",
       "2                  2       20  \n",
       "3                  0       20  \n",
       "4                  1       20  "
      ]
     },
     "execution_count": 43,
     "metadata": {},
     "output_type": "execute_result"
    }
   ],
   "source": [
    "# Import data\n",
    "lego = pd.read_csv('lego.csv')\n",
    "\n",
    "# View the data\n",
    "print(lego.shape)\n",
    "lego.head()"
   ]
  },
  {
   "cell_type": "code",
   "execution_count": 45,
   "id": "5ee34640",
   "metadata": {},
   "outputs": [
    {
     "data": {
      "text/plain": [
       "ages                   int64\n",
       "list_price           float64\n",
       "num_reviews            int64\n",
       "piece_count            int64\n",
       "play_star_rating     float64\n",
       "review_difficulty      int64\n",
       "country                int64\n",
       "dtype: object"
      ]
     },
     "execution_count": 45,
     "metadata": {},
     "output_type": "execute_result"
    }
   ],
   "source": [
    "# Variable data types\n",
    "lego.dtypes"
   ]
  },
  {
   "cell_type": "markdown",
   "id": "a0167391",
   "metadata": {},
   "source": [
    "### Notes:\n",
    "\n",
    "Both list_price and piece_count are numeric values"
   ]
  },
  {
   "cell_type": "markdown",
   "id": "ac0c4836",
   "metadata": {},
   "source": [
    "## 1.1 Check for missing values"
   ]
  },
  {
   "cell_type": "code",
   "execution_count": 48,
   "id": "241a087e",
   "metadata": {},
   "outputs": [
    {
     "data": {
      "text/plain": [
       "ages                 0\n",
       "list_price           0\n",
       "num_reviews          0\n",
       "piece_count          0\n",
       "play_star_rating     0\n",
       "review_difficulty    0\n",
       "country              0\n",
       "dtype: int64"
      ]
     },
     "execution_count": 48,
     "metadata": {},
     "output_type": "execute_result"
    }
   ],
   "source": [
    "# Sum missing values in the df\n",
    "lego.isna().sum()"
   ]
  },
  {
   "cell_type": "markdown",
   "id": "a136c0f3",
   "metadata": {},
   "source": [
    "### Notes:\n",
    "\n",
    "There no missing values anywhere in the dataset"
   ]
  },
  {
   "cell_type": "markdown",
   "id": "890e0b8b",
   "metadata": {},
   "source": [
    "## 1.2 Descriptive statistics"
   ]
  },
  {
   "cell_type": "code",
   "execution_count": 39,
   "id": "d5acc042",
   "metadata": {},
   "outputs": [
    {
     "data": {
      "text/html": [
       "<div>\n",
       "<style scoped>\n",
       "    .dataframe tbody tr th:only-of-type {\n",
       "        vertical-align: middle;\n",
       "    }\n",
       "\n",
       "    .dataframe tbody tr th {\n",
       "        vertical-align: top;\n",
       "    }\n",
       "\n",
       "    .dataframe thead th {\n",
       "        text-align: right;\n",
       "    }\n",
       "</style>\n",
       "<table border=\"1\" class=\"dataframe\">\n",
       "  <thead>\n",
       "    <tr style=\"text-align: right;\">\n",
       "      <th></th>\n",
       "      <th>ages</th>\n",
       "      <th>list_price</th>\n",
       "      <th>num_reviews</th>\n",
       "      <th>piece_count</th>\n",
       "      <th>play_star_rating</th>\n",
       "      <th>review_difficulty</th>\n",
       "      <th>country</th>\n",
       "    </tr>\n",
       "  </thead>\n",
       "  <tbody>\n",
       "    <tr>\n",
       "      <th>count</th>\n",
       "      <td>12261.00000</td>\n",
       "      <td>12261.000000</td>\n",
       "      <td>12261.000000</td>\n",
       "      <td>12261.000000</td>\n",
       "      <td>12261.000000</td>\n",
       "      <td>12261.000000</td>\n",
       "      <td>12261.000000</td>\n",
       "    </tr>\n",
       "    <tr>\n",
       "      <th>mean</th>\n",
       "      <td>16.68828</td>\n",
       "      <td>65.141998</td>\n",
       "      <td>14.603050</td>\n",
       "      <td>493.405921</td>\n",
       "      <td>3.709689</td>\n",
       "      <td>1.988826</td>\n",
       "      <td>10.015333</td>\n",
       "    </tr>\n",
       "    <tr>\n",
       "      <th>std</th>\n",
       "      <td>8.21868</td>\n",
       "      <td>91.980429</td>\n",
       "      <td>34.356847</td>\n",
       "      <td>825.364580</td>\n",
       "      <td>1.641130</td>\n",
       "      <td>1.787565</td>\n",
       "      <td>6.185450</td>\n",
       "    </tr>\n",
       "    <tr>\n",
       "      <th>min</th>\n",
       "      <td>0.00000</td>\n",
       "      <td>2.272400</td>\n",
       "      <td>0.000000</td>\n",
       "      <td>1.000000</td>\n",
       "      <td>0.000000</td>\n",
       "      <td>0.000000</td>\n",
       "      <td>0.000000</td>\n",
       "    </tr>\n",
       "    <tr>\n",
       "      <th>25%</th>\n",
       "      <td>11.00000</td>\n",
       "      <td>19.990000</td>\n",
       "      <td>1.000000</td>\n",
       "      <td>97.000000</td>\n",
       "      <td>3.600000</td>\n",
       "      <td>0.000000</td>\n",
       "      <td>4.000000</td>\n",
       "    </tr>\n",
       "    <tr>\n",
       "      <th>50%</th>\n",
       "      <td>19.00000</td>\n",
       "      <td>36.587800</td>\n",
       "      <td>4.000000</td>\n",
       "      <td>216.000000</td>\n",
       "      <td>4.400000</td>\n",
       "      <td>2.000000</td>\n",
       "      <td>10.000000</td>\n",
       "    </tr>\n",
       "    <tr>\n",
       "      <th>75%</th>\n",
       "      <td>23.00000</td>\n",
       "      <td>70.192200</td>\n",
       "      <td>11.000000</td>\n",
       "      <td>544.000000</td>\n",
       "      <td>4.700000</td>\n",
       "      <td>4.000000</td>\n",
       "      <td>15.000000</td>\n",
       "    </tr>\n",
       "    <tr>\n",
       "      <th>max</th>\n",
       "      <td>30.00000</td>\n",
       "      <td>1104.870000</td>\n",
       "      <td>367.000000</td>\n",
       "      <td>7541.000000</td>\n",
       "      <td>5.000000</td>\n",
       "      <td>5.000000</td>\n",
       "      <td>20.000000</td>\n",
       "    </tr>\n",
       "  </tbody>\n",
       "</table>\n",
       "</div>"
      ],
      "text/plain": [
       "              ages    list_price   num_reviews   piece_count  \\\n",
       "count  12261.00000  12261.000000  12261.000000  12261.000000   \n",
       "mean      16.68828     65.141998     14.603050    493.405921   \n",
       "std        8.21868     91.980429     34.356847    825.364580   \n",
       "min        0.00000      2.272400      0.000000      1.000000   \n",
       "25%       11.00000     19.990000      1.000000     97.000000   \n",
       "50%       19.00000     36.587800      4.000000    216.000000   \n",
       "75%       23.00000     70.192200     11.000000    544.000000   \n",
       "max       30.00000   1104.870000    367.000000   7541.000000   \n",
       "\n",
       "       play_star_rating  review_difficulty       country  \n",
       "count      12261.000000       12261.000000  12261.000000  \n",
       "mean           3.709689           1.988826     10.015333  \n",
       "std            1.641130           1.787565      6.185450  \n",
       "min            0.000000           0.000000      0.000000  \n",
       "25%            3.600000           0.000000      4.000000  \n",
       "50%            4.400000           2.000000     10.000000  \n",
       "75%            4.700000           4.000000     15.000000  \n",
       "max            5.000000           5.000000     20.000000  "
      ]
     },
     "execution_count": 39,
     "metadata": {},
     "output_type": "execute_result"
    }
   ],
   "source": [
    "# Descriptive statistics of the data frame\n",
    "df.describe()"
   ]
  },
  {
   "cell_type": "markdown",
   "id": "5ff7cb19",
   "metadata": {},
   "source": [
    "### Notes:\n",
    "\n",
    "The two variables of most interest to this analysis are the list_price and piece_count variables. Product piece count ranges from 1 piece to 7541 with a mean of 493 pieces, this suggests that the data might not be normally distributed. List_price ranges between 2.27 dollars and 1104.87 dollars with a mean of 65.14, again it seems that the data might not be normally distributed.\n",
    "\n",
    "To confirm this I will plot the distribution of both variables with a histogram.\n",
    "\n"
   ]
  },
  {
   "cell_type": "code",
   "execution_count": 74,
   "id": "18eb7523",
   "metadata": {},
   "outputs": [
    {
     "data": {
      "image/png": "[encoded data removed]",
      "text/plain": [
       "<Figure size 720x360 with 2 Axes>"
      ]
     },
     "metadata": {
      "needs_background": "light"
     },
     "output_type": "display_data"
    }
   ],
   "source": [
    "# Check distribution of list_price and piece_count\n",
    "\n",
    "# Create subplots \n",
    "f, axes = plt.subplots(1, 2, figsize=(10, 5))\n",
    "\n",
    "# Plot Histogram plot with list_price\n",
    "sns.distplot( lego[\"list_price\"] , color=\"blue\", ax=axes[0])\n",
    "\n",
    "# Plot Histogram plot with peice_count\n",
    "sns.distplot( lego[\"piece_count\"] , color=\"olive\", ax=axes[1])\n",
    "\n",
    "a = axes[0].set_title('List price distribution')\n",
    "b = axes[1].set_title('Piece count distribution')\n"
   ]
  },
  {
   "cell_type": "markdown",
   "id": "8a283bce",
   "metadata": {},
   "source": [
    "### Notes:\n",
    "\n",
    "The two distribution plots above confirm that the data for list_price and piece count are not normally distributed.\n",
    "This will not be a problem in developing predictive models as linear regression models do not assume that the data is normally distributed."
   ]
  },
  {
   "cell_type": "markdown",
   "id": "b943d998",
   "metadata": {},
   "source": [
    "## 1.3 Visualise relationship between list_price and piece_count"
   ]
  },
  {
   "cell_type": "code",
   "execution_count": 40,
   "id": "c2fcfd5e",
   "metadata": {},
   "outputs": [
    {
     "data": {
      "image/png": "[encoded data removed]",
      "text/plain": [
       "<Figure size 432x288 with 1 Axes>"
      ]
     },
     "metadata": {
      "needs_background": "light"
     },
     "output_type": "display_data"
    }
   ],
   "source": [
    "# price/piece_count Visualization\n",
    "plt.scatter(df['piece_count'], df['list_price'], color = \"blue\")\n",
    "plt.title(\"list_price vs piece_count\")\n",
    "plt.xlabel(\"piece_count\")\n",
    "plt.ylabel(\"list_price\")\n",
    "\n",
    "plt.show()"
   ]
  },
  {
   "cell_type": "markdown",
   "id": "b5989f7c",
   "metadata": {},
   "source": [
    "##### Notes:\n",
    "\n",
    "The trend in the scatter plot shows that there is a general trend of price increasing as piece count increases. However, we can observe that at around 2500-2800 piece count prices are higher when compared to higher piece counts until we get to above 7000 pieces. There is another peak in prices at around 4000 piece_counts. We can infer from this that, even though there is a general trend of price increase with piece count, there are also other factors that determine list price along with piece_count. \n",
    "\n",
    "Linear regression models require that the x and y variables used have a somewhat linear relationship and as that is observable in the scatter plot we are able to use these variables to build our model. \n",
    "\n"
   ]
  },
  {
   "cell_type": "markdown",
   "id": "a84a826c",
   "metadata": {},
   "source": [
    "# 2. Simple linear regression"
   ]
  },
  {
   "cell_type": "markdown",
   "id": "243e5f61",
   "metadata": {},
   "source": [
    "## 2.1 Define the variables"
   ]
  },
  {
   "cell_type": "code",
   "execution_count": 76,
   "id": "0d713252",
   "metadata": {},
   "outputs": [],
   "source": [
    "# variables (simple linear regression)\n",
    "y = lego[\"list_price\"].values.reshape(-1, 1) \n",
    "x = lego[\"piece_count\"].values.reshape(-1, 1)\n",
    " "
   ]
  },
  {
   "cell_type": "markdown",
   "id": "998320de",
   "metadata": {},
   "source": [
    "## 2.2 Split the data set"
   ]
  },
  {
   "cell_type": "markdown",
   "id": "d50e9f5c",
   "metadata": {},
   "source": [
    "\n",
    "I will split the data into to train and test with a split of 70/30.\n",
    "\n",
    "Splitting the dataset allows for us to test our model against the test sample of the data that was not used to train the model. With this we can test the quality of the model"
   ]
  },
  {
   "cell_type": "code",
   "execution_count": 77,
   "id": "a396b155",
   "metadata": {},
   "outputs": [],
   "source": [
    "# split the data into training = 0.7 and testing = 0.3 subsets\n",
    "x_train, x_test, y_train, y_test = train_test_split(x, y,\n",
    "                                                    test_size=0.3,\n",
    "                                                    random_state=1)"
   ]
  },
  {
   "cell_type": "markdown",
   "id": "52bee8b5",
   "metadata": {},
   "source": [
    "# 3. Run a simple linear equation"
   ]
  },
  {
   "cell_type": "markdown",
   "id": "a33c7cbd",
   "metadata": {},
   "source": [
    "## 3.1 Fit the model"
   ]
  },
  {
   "cell_type": "code",
   "execution_count": 78,
   "id": "5f4da05b",
   "metadata": {},
   "outputs": [],
   "source": [
    "# create an object for the linear regression\n",
    "lr = LinearRegression()\n",
    "\n",
    "# fit the model on the training data\n",
    "lr.fit(x_train, y_train)\n",
    "\n",
    "# predict is used for predicting on the x_test\n",
    "y_pred_lr = lr.predict(x_train)"
   ]
  },
  {
   "cell_type": "code",
   "execution_count": 80,
   "id": "7ee00bcc",
   "metadata": {},
   "outputs": [],
   "source": [
    "# Predict the training set values.\n",
    "y_pred = lr.predict(x_train) "
   ]
  },
  {
   "cell_type": "markdown",
   "id": "2b9101fb",
   "metadata": {},
   "source": [
    "## 3.2 Visualise the model"
   ]
  },
  {
   "cell_type": "code",
   "execution_count": 82,
   "id": "6110f89f",
   "metadata": {},
   "outputs": [
    {
     "data": {
      "image/png": "[encoded data removed]",
      "text/plain": [
       "<Figure size 432x288 with 1 Axes>"
      ]
     },
     "metadata": {
      "needs_background": "light"
     },
     "output_type": "display_data"
    }
   ],
   "source": [
    "# [1] Create a scatterplot (with red data points).\n",
    "plt.scatter(x_train, y_train, color = \"red\")  \n",
    "# [2] Create a regression line in green.\n",
    "plt.plot(x_train, y_pred, color = \"green\")\n",
    "# [3] Set the title for the graph.  \n",
    "plt.title(\"Peice count vs list price\")\n",
    "# [4] Set the label for the x-axis.  \n",
    "plt.xlabel(\"Peice count\")\n",
    "# [5] Set the label for the y-axis.   \n",
    "plt.ylabel(\"Alist price\") \n",
    "# [6] Print the graph. \n",
    "plt.show() "
   ]
  },
  {
   "cell_type": "markdown",
   "id": "655ccff3",
   "metadata": {},
   "source": [
    "## 3.2 Model Evaluation"
   ]
  },
  {
   "cell_type": "code",
   "execution_count": 9,
   "id": "29e345fd",
   "metadata": {},
   "outputs": [
    {
     "name": "stdout",
     "output_type": "stream",
     "text": [
      "Intercept value:  [17.51265789]\n",
      "Coffecient value:  [[0.09609344]]\n"
     ]
    }
   ],
   "source": [
    "# Print intercept and coffecient values\n",
    "print(\"Intercept value: \", lr.intercept_)\n",
    "print(\"Coffecient value: \", lr.coef_)"
   ]
  },
  {
   "cell_type": "code",
   "execution_count": 79,
   "id": "60f26cc7",
   "metadata": {},
   "outputs": [
    {
     "name": "stdout",
     "output_type": "stream",
     "text": [
      "R squared: 75.70\n",
      "Mean Absolute Error: 20.084732177020527\n",
      "Mean Square Error: 1934.1469402177052\n"
     ]
    }
   ],
   "source": [
    "# simple linear regression MAE, MSE, R squared.\n",
    "\n",
    "meanAbErr = metrics.mean_absolute_error(y_train, y_pred_lr)\n",
    "meanSqErr = metrics.mean_squared_error(y_train, y_pred_lr)\n",
    "\n",
    "print('R squared: {:.2f}'.format(lr.score(x_train,y_train)*100))\n",
    "print('Mean Absolute Error:', meanAbErr)\n",
    "print('Mean Square Error:', meanSqErr)"
   ]
  },
  {
   "cell_type": "markdown",
   "id": "46891e82",
   "metadata": {},
   "source": [
    "#### Notes:\n",
    "- The R-squared tells us that the model is explaining over 75.70% of the values. This suggests that this a relatively strong model\n",
    "\n",
    "- The coffecient value of 0.096 tells us that as the independent variable increases by 1, the predicted value of list_price increases by 0.096.\n",
    "\n",
    "- The Mean Absolute Error indicates that the average risidual error in the predicted price is relatively low at 20.08."
   ]
  },
  {
   "cell_type": "markdown",
   "id": "fe7f06b0",
   "metadata": {},
   "source": [
    "## 3.4 Simple linear regression prediction\n",
    "\n",
    "We will now use the linear regression  model to predict the list price of Lego product with 8000 pieces.\n"
   ]
  },
  {
   "cell_type": "code",
   "execution_count": 11,
   "id": "27844425",
   "metadata": {},
   "outputs": [
    {
     "name": "stdout",
     "output_type": "stream",
     "text": [
      "[[786.26020805]]\n"
     ]
    }
   ],
   "source": [
    "# Predicted list price when the lego set has 8000 pieces\n",
    "print(lr.predict([[8000]]))"
   ]
  },
  {
   "cell_type": "markdown",
   "id": "3fc4ba51",
   "metadata": {},
   "source": [
    " #### Notes: \n",
    " \n",
    " The model predicts that the price for a lego set with 8000 pieces is $786.26"
   ]
  },
  {
   "cell_type": "markdown",
   "id": "b56d015c",
   "metadata": {},
   "source": [
    "## 5. Multiple linear regression"
   ]
  },
  {
   "cell_type": "markdown",
   "id": "04ace839",
   "metadata": {},
   "source": [
    "## 5.1 Define the variables"
   ]
  },
  {
   "cell_type": "code",
   "execution_count": 89,
   "id": "2380b974",
   "metadata": {},
   "outputs": [],
   "source": [
    "# variables (multiple linear regression)\n",
    "y = lego[\"list_price\"]\n",
    "X = lego[[\"piece_count\",\"ages\"]]"
   ]
  },
  {
   "cell_type": "markdown",
   "id": "6c4eea34",
   "metadata": {},
   "source": [
    "### 5.2 Split the data set"
   ]
  },
  {
   "cell_type": "code",
   "execution_count": 90,
   "id": "318baa97",
   "metadata": {},
   "outputs": [],
   "source": [
    "# split the data into training = 0.7 and testing = 0.3 subsets\n",
    "X_train, x_test, y_train,y_test = train_test_split(X, y,\n",
    "                                                    test_size=0.3,\n",
    "                                                    random_state=1)"
   ]
  },
  {
   "cell_type": "markdown",
   "id": "ac04ba30",
   "metadata": {},
   "source": [
    "### 5.3 Fit the multiple linear regression"
   ]
  },
  {
   "cell_type": "code",
   "execution_count": 91,
   "id": "5a056b92",
   "metadata": {},
   "outputs": [],
   "source": [
    "# run linear regression\n",
    "mlr = linear_model.LinearRegression()\n",
    "\n",
    "# fit the model on the training data\n",
    "mlr.fit(X_train, y_train)\n",
    "\n",
    "# predict is used for predicting on the x_test\n",
    "y_pred_mlr = mlr.predict(X_train)"
   ]
  },
  {
   "cell_type": "markdown",
   "id": "8925ac4e",
   "metadata": {},
   "source": [
    "### 5.4 Evaluate the model"
   ]
  },
  {
   "cell_type": "code",
   "execution_count": 87,
   "id": "081a90e7",
   "metadata": {},
   "outputs": [
    {
     "name": "stdout",
     "output_type": "stream",
     "text": [
      "Intercept value:  16.80346232870125\n",
      "Coffecient value:  [0.09613004 0.04135372]\n"
     ]
    }
   ],
   "source": [
    "# Print model intercept and coffecients\n",
    "print(\"Intercept value: \", mlr.intercept_)\n",
    "print(\"Coffecient value: \", mlr.coef_)"
   ]
  },
  {
   "cell_type": "code",
   "execution_count": 98,
   "id": "a1b9f14b",
   "metadata": {},
   "outputs": [
    {
     "name": "stdout",
     "output_type": "stream",
     "text": [
      "   VIF Factor     features\n",
      "0         5.8        const\n",
      "1         1.0  piece_count\n",
      "2         1.0         ages\n"
     ]
    }
   ],
   "source": [
    "# check multicollinearity\n",
    "x_temp = sm.add_constant(x_train)# multicollinearity\n",
    "\n",
    "vif = pd.DataFrame()\n",
    "vif[\"VIF Factor\"] = [variance_inflation_factor(x_temp.values, i) for i in range(x_temp.values.shape[1])]\n",
    "vif[\"features\"] = x_temp.columns\n",
    "print(vif.round(1))"
   ]
  },
  {
   "cell_type": "markdown",
   "id": "ba4a8cc4",
   "metadata": {},
   "source": [
    "### Notes:\n",
    "\n",
    "A VIF a value of 1 in shows that there is no evidence of multicollinearity in the model and thus no correlation between the two independent variables used."
   ]
  },
  {
   "cell_type": "code",
   "execution_count": 93,
   "id": "6aa0cc28",
   "metadata": {},
   "outputs": [
    {
     "name": "stdout",
     "output_type": "stream",
     "text": [
      "R squared: 75.70\n",
      "Mean Absolute Error: 20.076668286657355\n",
      "Mean Square Error: 1934.0328139196909\n"
     ]
    }
   ],
   "source": [
    "meanAbErr = metrics.mean_absolute_error(y_train, y_pred_mlr)\n",
    "meanSqErr = metrics.mean_squared_error(y_train, y_pred_mlr)\n",
    "\n",
    "print('R squared: {:.2f}'.format(mlr.score(X_train,y_train)*100))\n",
    "print('Mean Absolute Error:', meanAbErr)\n",
    "print('Mean Square Error:', meanSqErr)"
   ]
  },
  {
   "cell_type": "markdown",
   "id": "5a417de5",
   "metadata": {},
   "source": [
    "#### Notes:\n",
    "\n",
    "- The R-squared tells us that the model is explaining over 75.69% of the values.\n",
    "- The coffecient value of 0.096 for the pieces_count tells us that as this independent variable increases by 1, the predicted value of list_price increases by 0.096. \n",
    "- As the second independent variable increases by 1 the prices increases by 0.04\n",
    "- The Mean Absolute Error for this model is 20.07 which is low."
   ]
  },
  {
   "cell_type": "markdown",
   "id": "70a58119",
   "metadata": {},
   "source": [
    "### 5.5 multiple linear regression prediction\n",
    "\n",
    "We will now use the MLR model to predict the list price of Lego product with 8000 pieces.\n"
   ]
  },
  {
   "cell_type": "code",
   "execution_count": 94,
   "id": "a63bf2a7",
   "metadata": {},
   "outputs": [
    {
     "name": "stdout",
     "output_type": "stream",
     "text": [
      "Predicted Value: \n",
      " [787.08439325]\n"
     ]
    }
   ],
   "source": [
    "New_Value1 = 8000\n",
    "New_Value2 = 30\n",
    "print ('Predicted Value: \\n', mlr.predict([[New_Value1 ,New_Value2]])) "
   ]
  },
  {
   "cell_type": "markdown",
   "id": "f7de6724",
   "metadata": {},
   "source": [
    "#### Notes:\n",
    "\n",
    "In summary:\n",
    "\n",
    "The model predicts that lego products with 8000 pieces most likley purchased by 30 year olds will cost $787.08.\n",
    "\n",
    "The predicted price for an 8000 piece lego set using simple linear regression is 786.26 dollars and 787.08 dollars when using a MLR model with age and piece count as the independent variables.\n",
    "\n",
    "Both models have an accuracy of 75.70 percent and a low Mean Absolute Error of 20.08 and 20.076 respectivly. Considering these evaluation results I am confident that the recommended price is the most suitable based on the analysis.\n",
    "\n",
    "\n",
    "\n"
   ]
  },
  {
   "cell_type": "code",
   "execution_count": null,
   "id": "f16a9feb",
   "metadata": {},
   "outputs": [],
   "source": []
  }
 ],
 "metadata": {
  "kernelspec": {
   "display_name": "Python 3 (ipykernel)",
   "language": "python",
   "name": "python3"
  },
  "language_info": {
   "codemirror_mode": {
    "name": "ipython",
    "version": 3
   },
   "file_extension": ".py",
   "mimetype": "text/x-python",
   "name": "python",
   "nbconvert_exporter": "python",
   "pygments_lexer": "ipython3",
   "version": "3.9.7"
  }
 },
 "nbformat": 4,
 "nbformat_minor": 5
}
