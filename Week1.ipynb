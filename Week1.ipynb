{
 "cells": [
  {
   "cell_type": "code",
   "execution_count": 83,
   "id": "ce001ecc",
   "metadata": {},
   "outputs": [],
   "source": [
    "#import all the necessary packages\n",
    "import numpy as np\n",
    "import pandas as pd\n",
    "import statsmodels.api as sm\n",
    "import statsmodels.stats.api as sms\n",
    "import sklearn\n",
    "import matplotlib.pyplot as plt\n",
    "\n",
    "from sklearn import datasets \n",
    "from sklearn import linear_model\n",
    "from statsmodels.stats.outliers_influence import variance_inflation_factor\n",
    "from sklearn.model_selection import train_test_split\n",
    "from sklearn import metrics\n",
    "from sklearn.linear_model import LinearRegression\n",
    "from statsmodels.formula.api import ols"
   ]
  },
  {
   "cell_type": "markdown",
   "id": "7dd70f99",
   "metadata": {},
   "source": [
    "### 1. Import Data"
   ]
  },
  {
   "cell_type": "code",
   "execution_count": 2,
   "id": "172492c4",
   "metadata": {},
   "outputs": [
    {
     "data": {
      "text/html": [
       "<div>\n",
       "<style scoped>\n",
       "    .dataframe tbody tr th:only-of-type {\n",
       "        vertical-align: middle;\n",
       "    }\n",
       "\n",
       "    .dataframe tbody tr th {\n",
       "        vertical-align: top;\n",
       "    }\n",
       "\n",
       "    .dataframe thead th {\n",
       "        text-align: right;\n",
       "    }\n",
       "</style>\n",
       "<table border=\"1\" class=\"dataframe\">\n",
       "  <thead>\n",
       "    <tr style=\"text-align: right;\">\n",
       "      <th></th>\n",
       "      <th>ages</th>\n",
       "      <th>list_price</th>\n",
       "      <th>num_reviews</th>\n",
       "      <th>piece_count</th>\n",
       "      <th>play_star_rating</th>\n",
       "      <th>review_difficulty</th>\n",
       "      <th>country</th>\n",
       "    </tr>\n",
       "  </thead>\n",
       "  <tbody>\n",
       "    <tr>\n",
       "      <th>0</th>\n",
       "      <td>19</td>\n",
       "      <td>29.99</td>\n",
       "      <td>2</td>\n",
       "      <td>277</td>\n",
       "      <td>4.0</td>\n",
       "      <td>0</td>\n",
       "      <td>20</td>\n",
       "    </tr>\n",
       "    <tr>\n",
       "      <th>1</th>\n",
       "      <td>19</td>\n",
       "      <td>19.99</td>\n",
       "      <td>2</td>\n",
       "      <td>168</td>\n",
       "      <td>4.0</td>\n",
       "      <td>2</td>\n",
       "      <td>20</td>\n",
       "    </tr>\n",
       "    <tr>\n",
       "      <th>2</th>\n",
       "      <td>19</td>\n",
       "      <td>12.99</td>\n",
       "      <td>11</td>\n",
       "      <td>74</td>\n",
       "      <td>4.3</td>\n",
       "      <td>2</td>\n",
       "      <td>20</td>\n",
       "    </tr>\n",
       "    <tr>\n",
       "      <th>3</th>\n",
       "      <td>5</td>\n",
       "      <td>99.99</td>\n",
       "      <td>23</td>\n",
       "      <td>1032</td>\n",
       "      <td>3.6</td>\n",
       "      <td>0</td>\n",
       "      <td>20</td>\n",
       "    </tr>\n",
       "    <tr>\n",
       "      <th>4</th>\n",
       "      <td>5</td>\n",
       "      <td>79.99</td>\n",
       "      <td>14</td>\n",
       "      <td>744</td>\n",
       "      <td>3.2</td>\n",
       "      <td>1</td>\n",
       "      <td>20</td>\n",
       "    </tr>\n",
       "  </tbody>\n",
       "</table>\n",
       "</div>"
      ],
      "text/plain": [
       "   ages  list_price  num_reviews  piece_count  play_star_rating  \\\n",
       "0    19       29.99            2          277               4.0   \n",
       "1    19       19.99            2          168               4.0   \n",
       "2    19       12.99           11           74               4.3   \n",
       "3     5       99.99           23         1032               3.6   \n",
       "4     5       79.99           14          744               3.2   \n",
       "\n",
       "   review_difficulty  country  \n",
       "0                  0       20  \n",
       "1                  2       20  \n",
       "2                  2       20  \n",
       "3                  0       20  \n",
       "4                  1       20  "
      ]
     },
     "execution_count": 2,
     "metadata": {},
     "output_type": "execute_result"
    }
   ],
   "source": [
    "df = pd.read_csv('lego.csv')\n",
    "df.head()"
   ]
  },
  {
   "cell_type": "code",
   "execution_count": 3,
   "id": "d5acc042",
   "metadata": {},
   "outputs": [
    {
     "data": {
      "text/html": [
       "<div>\n",
       "<style scoped>\n",
       "    .dataframe tbody tr th:only-of-type {\n",
       "        vertical-align: middle;\n",
       "    }\n",
       "\n",
       "    .dataframe tbody tr th {\n",
       "        vertical-align: top;\n",
       "    }\n",
       "\n",
       "    .dataframe thead th {\n",
       "        text-align: right;\n",
       "    }\n",
       "</style>\n",
       "<table border=\"1\" class=\"dataframe\">\n",
       "  <thead>\n",
       "    <tr style=\"text-align: right;\">\n",
       "      <th></th>\n",
       "      <th>ages</th>\n",
       "      <th>list_price</th>\n",
       "      <th>num_reviews</th>\n",
       "      <th>piece_count</th>\n",
       "      <th>play_star_rating</th>\n",
       "      <th>review_difficulty</th>\n",
       "      <th>country</th>\n",
       "    </tr>\n",
       "  </thead>\n",
       "  <tbody>\n",
       "    <tr>\n",
       "      <th>count</th>\n",
       "      <td>12261.00000</td>\n",
       "      <td>12261.000000</td>\n",
       "      <td>12261.000000</td>\n",
       "      <td>12261.000000</td>\n",
       "      <td>12261.000000</td>\n",
       "      <td>12261.000000</td>\n",
       "      <td>12261.000000</td>\n",
       "    </tr>\n",
       "    <tr>\n",
       "      <th>mean</th>\n",
       "      <td>16.68828</td>\n",
       "      <td>65.141998</td>\n",
       "      <td>14.603050</td>\n",
       "      <td>493.405921</td>\n",
       "      <td>3.709689</td>\n",
       "      <td>1.988826</td>\n",
       "      <td>10.015333</td>\n",
       "    </tr>\n",
       "    <tr>\n",
       "      <th>std</th>\n",
       "      <td>8.21868</td>\n",
       "      <td>91.980429</td>\n",
       "      <td>34.356847</td>\n",
       "      <td>825.364580</td>\n",
       "      <td>1.641130</td>\n",
       "      <td>1.787565</td>\n",
       "      <td>6.185450</td>\n",
       "    </tr>\n",
       "    <tr>\n",
       "      <th>min</th>\n",
       "      <td>0.00000</td>\n",
       "      <td>2.272400</td>\n",
       "      <td>0.000000</td>\n",
       "      <td>1.000000</td>\n",
       "      <td>0.000000</td>\n",
       "      <td>0.000000</td>\n",
       "      <td>0.000000</td>\n",
       "    </tr>\n",
       "    <tr>\n",
       "      <th>25%</th>\n",
       "      <td>11.00000</td>\n",
       "      <td>19.990000</td>\n",
       "      <td>1.000000</td>\n",
       "      <td>97.000000</td>\n",
       "      <td>3.600000</td>\n",
       "      <td>0.000000</td>\n",
       "      <td>4.000000</td>\n",
       "    </tr>\n",
       "    <tr>\n",
       "      <th>50%</th>\n",
       "      <td>19.00000</td>\n",
       "      <td>36.587800</td>\n",
       "      <td>4.000000</td>\n",
       "      <td>216.000000</td>\n",
       "      <td>4.400000</td>\n",
       "      <td>2.000000</td>\n",
       "      <td>10.000000</td>\n",
       "    </tr>\n",
       "    <tr>\n",
       "      <th>75%</th>\n",
       "      <td>23.00000</td>\n",
       "      <td>70.192200</td>\n",
       "      <td>11.000000</td>\n",
       "      <td>544.000000</td>\n",
       "      <td>4.700000</td>\n",
       "      <td>4.000000</td>\n",
       "      <td>15.000000</td>\n",
       "    </tr>\n",
       "    <tr>\n",
       "      <th>max</th>\n",
       "      <td>30.00000</td>\n",
       "      <td>1104.870000</td>\n",
       "      <td>367.000000</td>\n",
       "      <td>7541.000000</td>\n",
       "      <td>5.000000</td>\n",
       "      <td>5.000000</td>\n",
       "      <td>20.000000</td>\n",
       "    </tr>\n",
       "  </tbody>\n",
       "</table>\n",
       "</div>"
      ],
      "text/plain": [
       "              ages    list_price   num_reviews   piece_count  \\\n",
       "count  12261.00000  12261.000000  12261.000000  12261.000000   \n",
       "mean      16.68828     65.141998     14.603050    493.405921   \n",
       "std        8.21868     91.980429     34.356847    825.364580   \n",
       "min        0.00000      2.272400      0.000000      1.000000   \n",
       "25%       11.00000     19.990000      1.000000     97.000000   \n",
       "50%       19.00000     36.587800      4.000000    216.000000   \n",
       "75%       23.00000     70.192200     11.000000    544.000000   \n",
       "max       30.00000   1104.870000    367.000000   7541.000000   \n",
       "\n",
       "       play_star_rating  review_difficulty       country  \n",
       "count      12261.000000       12261.000000  12261.000000  \n",
       "mean           3.709689           1.988826     10.015333  \n",
       "std            1.641130           1.787565      6.185450  \n",
       "min            0.000000           0.000000      0.000000  \n",
       "25%            3.600000           0.000000      4.000000  \n",
       "50%            4.400000           2.000000     10.000000  \n",
       "75%            4.700000           4.000000     15.000000  \n",
       "max            5.000000           5.000000     20.000000  "
      ]
     },
     "execution_count": 3,
     "metadata": {},
     "output_type": "execute_result"
    }
   ],
   "source": [
    "df.describe()"
   ]
  },
  {
   "cell_type": "code",
   "execution_count": 6,
   "id": "c2fcfd5e",
   "metadata": {},
   "outputs": [
    {
     "data": {
      "image/png": "[encoded data removed]",
      "text/plain": [
       "<Figure size 432x288 with 1 Axes>"
      ]
     },
     "metadata": {
      "needs_background": "light"
     },
     "output_type": "display_data"
    }
   ],
   "source": [
    "# price/piece_count Visualization\n",
    "plt.scatter(df['piece_count'], df['list_price'], color = \"blue\")\n",
    "plt.title(\"list_price vs piece_count\")\n",
    "plt.xlabel(\"piece_count\")\n",
    "plt.ylabel(\"list_price\")\n",
    "\n",
    "plt.show()"
   ]
  },
  {
   "cell_type": "markdown",
   "id": "b5989f7c",
   "metadata": {},
   "source": [
    "##### Notes:\n",
    "\n",
    "There seems to be a clear correlation between price and piece count."
   ]
  },
  {
   "cell_type": "markdown",
   "id": "a84a826c",
   "metadata": {},
   "source": [
    "## Simple linear regression"
   ]
  },
  {
   "cell_type": "markdown",
   "id": "243e5f61",
   "metadata": {},
   "source": [
    "### 1. Define the variables"
   ]
  },
  {
   "cell_type": "code",
   "execution_count": 23,
   "id": "0d713252",
   "metadata": {},
   "outputs": [],
   "source": [
    "# variables (simple linear regression)\n",
    "y = df[\"list_price\"].values.reshape(-1, 1) \n",
    "x = df[\"piece_count\"].values.reshape(-1, 1)\n",
    " "
   ]
  },
  {
   "cell_type": "markdown",
   "id": "998320de",
   "metadata": {},
   "source": [
    "### 2. Split the data set"
   ]
  },
  {
   "cell_type": "code",
   "execution_count": 22,
   "id": "a396b155",
   "metadata": {},
   "outputs": [],
   "source": [
    "# split the data into training = 0.7 and testing = 0.3 subsets\n",
    "x_train, x_test, y_train, y_test = train_test_split(x, y,\n",
    "                                                    test_size=0.3,\n",
    "                                                    random_state=1)"
   ]
  },
  {
   "cell_type": "markdown",
   "id": "62ffb3b3",
   "metadata": {},
   "source": [
    "##### a) Why do we need to create train and test data?\n",
    "\n",
    "We split the data into to train and test so that we are able to test the quality of the model.\n",
    "\n",
    "##### b) How does this improve our results?\n",
    "\n",
    "We do so because it allows us to test our model against the split of the data that was not used to train the model. This allows us to test the quality of the model"
   ]
  },
  {
   "cell_type": "markdown",
   "id": "52bee8b5",
   "metadata": {},
   "source": [
    "### 3. Run a simple linear equation"
   ]
  },
  {
   "cell_type": "code",
   "execution_count": 45,
   "id": "5f4da05b",
   "metadata": {},
   "outputs": [],
   "source": [
    "# run linear regression\n",
    "lr = LinearRegression()\n",
    "\n",
    "# fit the model on the training data\n",
    "lr.fit(x_train, y_train)\n",
    "\n",
    "# predict is used for predicting on the x_test\n",
    "y_pred_lr = lr.predict(x_train)"
   ]
  },
  {
   "cell_type": "code",
   "execution_count": 46,
   "id": "3923d48a",
   "metadata": {},
   "outputs": [
    {
     "name": "stdout",
     "output_type": "stream",
     "text": [
      "75.69739612103157\n"
     ]
    }
   ],
   "source": [
    "# print the R-squared value\n",
    "print(lr.score(x_train,y_train)*100)"
   ]
  },
  {
   "cell_type": "code",
   "execution_count": 47,
   "id": "29e345fd",
   "metadata": {},
   "outputs": [
    {
     "name": "stdout",
     "output_type": "stream",
     "text": [
      "Intercept value:  [17.51265789]\n",
      "Coffecient value:  [[0.09609344]]\n"
     ]
    }
   ],
   "source": [
    "print(\"Intercept value: \", lr.intercept_)\n",
    "print(\"Coffecient value: \", lr.coef_)"
   ]
  },
  {
   "cell_type": "markdown",
   "id": "cecb6736",
   "metadata": {},
   "source": [
    "#### Notes:\n",
    "- The R-squared tells us that the model is explaining over 75% of the values.\n",
    "- The coffecient value of 0.096 tells us that as the independent variable increases by 1, the predicted value of list_price increases by 0.096."
   ]
  },
  {
   "cell_type": "code",
   "execution_count": 48,
   "id": "60f26cc7",
   "metadata": {},
   "outputs": [
    {
     "name": "stdout",
     "output_type": "stream",
     "text": [
      "R squared: 75.62\n",
      "Mean Absolute Error: 20.084732177020527\n",
      "Mean Square Error: 1934.1469402177052\n"
     ]
    }
   ],
   "source": [
    "# simple linear regression MAE, MSE, R squared.\n",
    "\n",
    "meanAbErr = metrics.mean_absolute_error(y_train, y_pred_lr)\n",
    "meanSqErr = metrics.mean_squared_error(y_train, y_pred_lr)\n",
    "\n",
    "print('R squared: {:.2f}'.format(lr.score(x,y)*100))\n",
    "print('Mean Absolute Error:', meanAbErr)\n",
    "print('Mean Square Error:', meanSqErr)"
   ]
  },
  {
   "cell_type": "markdown",
   "id": "fe7f06b0",
   "metadata": {},
   "source": [
    "### 4. Simple linear regression prediction\n",
    "\n",
    "What is the predicted list price for 8000 piece lego?\n"
   ]
  },
  {
   "cell_type": "code",
   "execution_count": 49,
   "id": "27844425",
   "metadata": {},
   "outputs": [
    {
     "name": "stdout",
     "output_type": "stream",
     "text": [
      "[[786.26020805]]\n"
     ]
    }
   ],
   "source": [
    "# Predicted list price when the lego set has 8000 pieces\n",
    "print(lr.predict([[8000]]))"
   ]
  },
  {
   "cell_type": "markdown",
   "id": "3fc4ba51",
   "metadata": {},
   "source": [
    " #### Notes: \n",
    " \n",
    " The model predicts that the price for a lego set with 8000 pieces is $786.26"
   ]
  },
  {
   "cell_type": "markdown",
   "id": "b56d015c",
   "metadata": {},
   "source": [
    "## Multiple linear regression"
   ]
  },
  {
   "cell_type": "markdown",
   "id": "04ace839",
   "metadata": {},
   "source": [
    "### 1. Define the variables"
   ]
  },
  {
   "cell_type": "code",
   "execution_count": 94,
   "id": "2380b974",
   "metadata": {},
   "outputs": [],
   "source": [
    "# variables (multiple linear regression)\n",
    "y = df[\"list_price\"]\n",
    "X = df[[\"piece_count\",\"ages\"]]"
   ]
  },
  {
   "cell_type": "markdown",
   "id": "6c4eea34",
   "metadata": {},
   "source": [
    "### 2. Split the data set"
   ]
  },
  {
   "cell_type": "code",
   "execution_count": 95,
   "id": "318baa97",
   "metadata": {},
   "outputs": [],
   "source": [
    "# split the data into training = 0.7 and testing = 0.3 subsets\n",
    "x_train, x_test, y_train,y_test = train_test_split(X, y,\n",
    "                                                    test_size=0.3,\n",
    "                                                    random_state=1)"
   ]
  },
  {
   "cell_type": "markdown",
   "id": "ac04ba30",
   "metadata": {},
   "source": [
    "### 3. Run a multiple linear regression"
   ]
  },
  {
   "cell_type": "code",
   "execution_count": 96,
   "id": "5a056b92",
   "metadata": {},
   "outputs": [],
   "source": [
    "# run linear regression\n",
    "mlr = linear_model.LinearRegression()\n",
    "\n",
    "# fit the model on the training data\n",
    "mlr.fit(x_train, y_train)\n",
    "\n",
    "# predict is used for predicting on the x_test\n",
    "y_pred_mlr = mlr.predict(x_train)"
   ]
  },
  {
   "cell_type": "code",
   "execution_count": 97,
   "id": "d9638df5",
   "metadata": {},
   "outputs": [
    {
     "name": "stdout",
     "output_type": "stream",
     "text": [
      "75.69883012077334\n"
     ]
    }
   ],
   "source": [
    "# print the R-squared value\n",
    "print(mlr.score(x_train,y_train)*100)"
   ]
  },
  {
   "cell_type": "code",
   "execution_count": 70,
   "id": "081a90e7",
   "metadata": {},
   "outputs": [
    {
     "name": "stdout",
     "output_type": "stream",
     "text": [
      "Intercept value:  [16.80346233]\n",
      "Coffecient value:  [[0.09613004 0.04135372]]\n"
     ]
    }
   ],
   "source": [
    "print(\"Intercept value: \", mlr.intercept_)\n",
    "print(\"Coffecient value: \", mlr.coef_)"
   ]
  },
  {
   "cell_type": "markdown",
   "id": "97cfce79",
   "metadata": {},
   "source": [
    "#### Notes:\n",
    "- The R-squared tells us that the model is explaining over 75.69% of the values.\n",
    "- The coffecient value of 0.096 for the pieces_count tells us that as this independent variable increases by 1, the predicted value of list_price increases by 0.096. \n",
    "- As the second independent variable increases by 1 the prices increases by 0.04"
   ]
  },
  {
   "cell_type": "code",
   "execution_count": 71,
   "id": "6aa0cc28",
   "metadata": {},
   "outputs": [
    {
     "name": "stdout",
     "output_type": "stream",
     "text": [
      "R squared: 75.62\n",
      "Mean Absolute Error: 20.076668286657355\n",
      "Mean Square Error: 1934.0328139196909\n"
     ]
    }
   ],
   "source": [
    "meanAbErr = metrics.mean_absolute_error(y_train, y_pred_mlr)\n",
    "meanSqErr = metrics.mean_squared_error(y_train, y_pred_mlr)\n",
    "\n",
    "print('R squared: {:.2f}'.format(mlr.score(X,y)*100))\n",
    "print('Mean Absolute Error:', meanAbErr)\n",
    "print('Mean Square Error:', meanSqErr)"
   ]
  },
  {
   "cell_type": "markdown",
   "id": "5a417de5",
   "metadata": {},
   "source": [
    "explain mean absolute error!!!"
   ]
  },
  {
   "cell_type": "markdown",
   "id": "6aa22edb",
   "metadata": {},
   "source": [
    "### 3. Check the model with OLS"
   ]
  },
  {
   "cell_type": "code",
   "execution_count": 86,
   "id": "10392556",
   "metadata": {},
   "outputs": [
    {
     "name": "stdout",
     "output_type": "stream",
     "text": [
      "                            OLS Regression Results                            \n",
      "==============================================================================\n",
      "Dep. Variable:                      y   R-squared:                       0.757\n",
      "Model:                            OLS   Adj. R-squared:                  0.757\n",
      "Method:                 Least Squares   F-statistic:                 1.336e+04\n",
      "Date:                Wed, 18 May 2022   Prob (F-statistic):               0.00\n",
      "Time:                        22:37:47   Log-Likelihood:                -44649.\n",
      "No. Observations:                8582   AIC:                         8.930e+04\n",
      "Df Residuals:                    8579   BIC:                         8.932e+04\n",
      "Df Model:                           2                                         \n",
      "Covariance Type:            nonrobust                                         \n",
      "==============================================================================\n",
      "                 coef    std err          t      P>|t|      [0.025      0.975]\n",
      "------------------------------------------------------------------------------\n",
      "const         16.8035      1.141     14.731      0.000      14.567      19.039\n",
      "x1             0.0961      0.001    162.912      0.000       0.095       0.097\n",
      "x2             0.0414      0.058      0.712      0.477      -0.073       0.155\n",
      "==============================================================================\n",
      "Omnibus:                    10003.059   Durbin-Watson:                   2.030\n",
      "Prob(Omnibus):                  0.000   Jarque-Bera (JB):          1619480.830\n",
      "Skew:                           5.993   Prob(JB):                         0.00\n",
      "Kurtosis:                      69.222   Cond. No.                     2.27e+03\n",
      "==============================================================================\n",
      "\n",
      "Notes:\n",
      "[1] Standard Errors assume that the covariance matrix of the errors is correctly specified.\n",
      "[2] The condition number is large, 2.27e+03. This might indicate that there are\n",
      "strong multicollinearity or other numerical problems.\n"
     ]
    }
   ],
   "source": [
    "model = sm.OLS(y_train, sm.add_constant(x_train)).fit()\n",
    "Y_pred = model.predict(sm.add_constant(x_train))\n",
    "print_model = model.summary()\n",
    "print(print_model)"
   ]
  },
  {
   "cell_type": "markdown",
   "id": "70a58119",
   "metadata": {},
   "source": [
    "### 4. multiple linear regression prediction\n",
    "\n",
    "What is the predicted list price of Lego product with the 8000 Lego pieces that are most likely to be purchased by 30-year-old customers? (Multiple linear regression).\n"
   ]
  },
  {
   "cell_type": "code",
   "execution_count": 73,
   "id": "a63bf2a7",
   "metadata": {},
   "outputs": [
    {
     "name": "stdout",
     "output_type": "stream",
     "text": [
      "Predicted Value: \n",
      " [[787.08439325]]\n"
     ]
    }
   ],
   "source": [
    "New_Value1 = 8000\n",
    "New_Value2 = 30\n",
    "print ('Predicted Value: \\n', mlr.predict([[New_Value1 ,New_Value2]])) "
   ]
  },
  {
   "cell_type": "markdown",
   "id": "f7de6724",
   "metadata": {},
   "source": [
    "#### Notes:\n",
    "\n",
    "The model predicts that lego products with 8000 pieces most likley purchased by 30 year olds will cost $787.08\n",
    "\n"
   ]
  },
  {
   "cell_type": "code",
   "execution_count": 93,
   "id": "8aed0cc4",
   "metadata": {},
   "outputs": [
    {
     "ename": "AttributeError",
     "evalue": "'numpy.ndarray' object has no attribute 'values'",
     "output_type": "error",
     "traceback": [
      "\u001b[0;31m---------------------------------------------------------------------------\u001b[0m",
      "\u001b[0;31mAttributeError\u001b[0m                            Traceback (most recent call last)",
      "\u001b[0;32m/var/folders/l7/2mtcb_kx4x7fv5g8kfqjrf1m0000gn/T/ipykernel_84185/101296340.py\u001b[0m in \u001b[0;36m<module>\u001b[0;34m\u001b[0m\n\u001b[1;32m      3\u001b[0m \u001b[0;34m\u001b[0m\u001b[0m\n\u001b[1;32m      4\u001b[0m \u001b[0mvif\u001b[0m \u001b[0;34m=\u001b[0m \u001b[0mpd\u001b[0m\u001b[0;34m.\u001b[0m\u001b[0mDataFrame\u001b[0m\u001b[0;34m(\u001b[0m\u001b[0;34m)\u001b[0m\u001b[0;34m\u001b[0m\u001b[0;34m\u001b[0m\u001b[0m\n\u001b[0;32m----> 5\u001b[0;31m \u001b[0mvif\u001b[0m\u001b[0;34m[\u001b[0m\u001b[0;34m\"VIF Factor\"\u001b[0m\u001b[0;34m]\u001b[0m \u001b[0;34m=\u001b[0m \u001b[0;34m[\u001b[0m\u001b[0mvariance_inflation_factor\u001b[0m\u001b[0;34m(\u001b[0m\u001b[0mx_temp\u001b[0m\u001b[0;34m.\u001b[0m\u001b[0mvalues\u001b[0m\u001b[0;34m,\u001b[0m \u001b[0mi\u001b[0m\u001b[0;34m)\u001b[0m \u001b[0;32mfor\u001b[0m \u001b[0mi\u001b[0m \u001b[0;32min\u001b[0m \u001b[0mrange\u001b[0m\u001b[0;34m(\u001b[0m\u001b[0mx_temp\u001b[0m\u001b[0;34m.\u001b[0m\u001b[0mvalues\u001b[0m\u001b[0;34m.\u001b[0m\u001b[0mshape\u001b[0m\u001b[0;34m[\u001b[0m\u001b[0;36m1\u001b[0m\u001b[0;34m]\u001b[0m\u001b[0;34m)\u001b[0m\u001b[0;34m]\u001b[0m\u001b[0;34m\u001b[0m\u001b[0;34m\u001b[0m\u001b[0m\n\u001b[0m\u001b[1;32m      6\u001b[0m \u001b[0mvif\u001b[0m\u001b[0;34m[\u001b[0m\u001b[0;34m\"features\"\u001b[0m\u001b[0;34m]\u001b[0m \u001b[0;34m=\u001b[0m \u001b[0mx_temp\u001b[0m\u001b[0;34m.\u001b[0m\u001b[0mcolumns\u001b[0m\u001b[0;34m\u001b[0m\u001b[0;34m\u001b[0m\u001b[0m\n\u001b[1;32m      7\u001b[0m \u001b[0mprint\u001b[0m\u001b[0;34m(\u001b[0m\u001b[0mvif\u001b[0m\u001b[0;34m.\u001b[0m\u001b[0mround\u001b[0m\u001b[0;34m(\u001b[0m\u001b[0;36m1\u001b[0m\u001b[0;34m)\u001b[0m\u001b[0;34m)\u001b[0m\u001b[0;34m\u001b[0m\u001b[0;34m\u001b[0m\u001b[0m\n",
      "\u001b[0;31mAttributeError\u001b[0m: 'numpy.ndarray' object has no attribute 'values'"
     ]
    }
   ],
   "source": [
    "# check multicollinearity\n",
    "x_temp = sm.add_constant(x_train)# multicollinearity\n",
    "\n",
    "vif = pd.DataFrame()\n",
    "vif[\"VIF Factor\"] = [variance_inflation_factor(x_temp.values, i) for i in range(x_temp.values.shape[1])]\n",
    "vif[\"features\"] = x_temp.columns\n",
    "print(vif.round(1))"
   ]
  },
  {
   "cell_type": "code",
   "execution_count": 88,
   "id": "ba5e7ac1",
   "metadata": {},
   "outputs": [],
   "source": [
    "model = sms.het_breuschpagan(model.resid, model.model.exog) # heteroscedasticity"
   ]
  },
  {
   "cell_type": "code",
   "execution_count": 89,
   "id": "0ba69a31",
   "metadata": {},
   "outputs": [
    {
     "name": "stdout",
     "output_type": "stream",
     "text": [
      "{'LM stat': 655.3443919662843, 'LM Test p-value': 4.940528528275746e-143, 'F-stat': 354.6388172194978, 'F-test p-value': 1.043749315788897e-148}\n"
     ]
    }
   ],
   "source": [
    "terms = ['LM stat', 'LM Test p-value', 'F-stat', 'F-test p-value']\n",
    "print(dict(zip(terms, model)))"
   ]
  },
  {
   "cell_type": "markdown",
   "id": "1a911d75",
   "metadata": {},
   "source": [
    "explain hetroscedasticity!!!"
   ]
  },
  {
   "cell_type": "code",
   "execution_count": null,
   "id": "ec6532f2",
   "metadata": {},
   "outputs": [],
   "source": []
  }
 ],
 "metadata": {
  "kernelspec": {
   "display_name": "Python 3 (ipykernel)",
   "language": "python",
   "name": "python3"
  },
  "language_info": {
   "codemirror_mode": {
    "name": "ipython",
    "version": 3
   },
   "file_extension": ".py",
   "mimetype": "text/x-python",
   "name": "python",
   "nbconvert_exporter": "python",
   "pygments_lexer": "ipython3",
   "version": "3.9.7"
  }
 },
 "nbformat": 4,
 "nbformat_minor": 5
}
